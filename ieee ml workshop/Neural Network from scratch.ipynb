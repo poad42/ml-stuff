{
 "cells": [
  {
   "cell_type": "code",
   "execution_count": 19,
   "metadata": {},
   "outputs": [],
   "source": [
    "import numpy as np\n",
    "import matplotlib.pyplot as plt"
   ]
  },
  {
   "cell_type": "code",
   "execution_count": 7,
   "metadata": {},
   "outputs": [],
   "source": [
    "#feature_set = np.random.rand(5,3) #generate a random array of values#feature set needs to be constant for replicable results\n",
    "feature_set = np.array([[0,1,0],[0,0,1],[1,0,0],[1,1,0],[1,1,1]]) \n",
    "labels = np.array([[1,0,0,1,1]])  \n",
    "labels = labels.reshape(5,1) #reshape as a vector"
   ]
  },
  {
   "cell_type": "code",
   "execution_count": 8,
   "metadata": {},
   "outputs": [],
   "source": [
    "np.random.seed(42)  \n",
    "weights = np.random.rand(3,1) #set weights  \n",
    "bias = np.random.rand(1)  #set bias\n",
    "lr = 0.05 #set learning rate"
   ]
  },
  {
   "cell_type": "code",
   "execution_count": 7,
   "metadata": {},
   "outputs": [],
   "source": [
    "def sigmoid(x):  \n",
    "    return 1/(1+np.exp(-x)) #define the sigmoid fuction, switch to RELU later"
   ]
  },
  {
   "cell_type": "code",
   "execution_count": 8,
   "metadata": {},
   "outputs": [],
   "source": [
    "def sigmoid_der(x):  \n",
    "    return sigmoid(x)*(1-sigmoid(x)) #calculate the derivative"
   ]
  },
  {
   "cell_type": "code",
   "execution_count": 31,
   "metadata": {},
   "outputs": [
    {
     "name": "stdout",
     "output_type": "stream",
     "text": [
      "0.5384618989219777\n",
      "0.25209577689549656\n",
      "0.07096144833536888\n",
      "0.15709930988464849\n",
      "0.016517543074752408\n",
      "0.00787822117714071\n",
      "0.0032779947780207166\n"
     ]
    }
   ],
   "source": [
    "b=[100,500,2000,1000,10000,20000,50000]\n",
    "errorsum1=[]\n",
    "for i in range(7):\n",
    "  feature_set = np.array([[0,1,0],[0,0,1],[1,0,0],[1,1,0],[1,1,1]]) \n",
    "  labels = np.array([[1,0,0,1,1]])  \n",
    "  labels = labels.reshape(5,1) #reshape as a vector\n",
    "  weights = np.random.rand(3,1) #set weights  \n",
    "  bias = np.random.rand(1)  #set bias   \n",
    "  for epoch in range(b[i]):  \n",
    "     inputs = feature_set\n",
    "\n",
    "    # feedforward step1\n",
    "     XW = np.dot(feature_set, weights) + bias\n",
    "\n",
    "    #feedforward step2\n",
    "     z = sigmoid(XW)\n",
    "\n",
    "\n",
    "    # backpropagation step 1\n",
    "     error = z - labels\n",
    "\n",
    "    #print(\"Epoch:\",epoch,\",Error:\",error.sum())\n",
    "\n",
    "    # backpropagation step 2\n",
    "     dcost_dpred = error\n",
    "     dpred_dz = sigmoid_der(z)\n",
    "\n",
    "     z_delta = dcost_dpred * dpred_dz\n",
    "\n",
    "     inputs = feature_set.T\n",
    "     weights -= lr * np.dot(inputs, z_delta)\n",
    "\n",
    "     for num in z_delta:\n",
    "         bias -= lr * num\n",
    "     if(epoch==b[i]-1):\n",
    "        errorsum1.append(error.sum())\n",
    "        print(errorsum1[i])"
   ]
  },
  {
   "cell_type": "code",
   "execution_count": 35,
   "metadata": {},
   "outputs": [
    {
     "name": "stdout",
     "output_type": "stream",
     "text": [
      "0.0016888699152202858\n",
      "0.0016474996594697377\n",
      "0.0016334286283812127\n",
      "0.0016387275561679064\n",
      "0.0016744343718165522\n",
      "0.001685529932793084\n",
      "0.0016650921292690746\n"
     ]
    }
   ],
   "source": [
    "a = [0.5,0.2,0.2,0.1,0.05,0.02,0.01]\n",
    "errorsum=[]\n",
    "for i in range(7):\n",
    "  feature_set = np.array([[0,1,0],[0,0,1],[1,0,0],[1,1,0],[1,1,1]]) \n",
    "  labels = np.array([[1,0,0,1,1]])  \n",
    "  labels = labels.reshape(5,1) #reshape as a vector\n",
    "  weights = np.random.rand(3,1) #set weights  \n",
    "  bias = np.random.rand(1)  #set bias\n",
    "  lr=0.05  \n",
    "  for epoch in range(20000):  \n",
    "     inputs = feature_set\n",
    "\n",
    "     # feedforward step1\n",
    "     XW = np.dot(feature_set, weights) + bias\n",
    "\n",
    "     #feedforward step2\n",
    "     z = sigmoid(XW)\n",
    "\n",
    "\n",
    "    # backpropagation step 1\n",
    "     error = z - labels\n",
    "\n",
    "    # print(\"Epoch:\",epoch,\",Error:\",error.sum())\n",
    "\n",
    "     # backpropagation step 2\n",
    "     dcost_dpred = error\n",
    "     dpred_dz = sigmoid_der(z)\n",
    "\n",
    "     z_delta = dcost_dpred * dpred_dz\n",
    "\n",
    "     inputs = feature_set.T\n",
    "     weights -= lr * np.dot(inputs, z_delta)\n",
    "\n",
    "     for num in z_delta:\n",
    "        bias -= lr * num\n",
    "     if(epoch==19999):\n",
    "       errorsum.append(error.sum())\n",
    "       print(errorsum[i])"
   ]
  },
  {
   "cell_type": "code",
   "execution_count": 25,
   "metadata": {},
   "outputs": [
    {
     "data": {
      "text/plain": [
       "[<matplotlib.lines.Line2D at 0x7f01fcf76a10>]"
      ]
     },
     "execution_count": 25,
     "metadata": {},
     "output_type": "execute_result"
    },
    {
     "data": {
      "image/png": "[encoded data removed]",
      "text/plain": [
       "<Figure size 432x288 with 1 Axes>"
      ]
     },
     "metadata": {
      "needs_background": "light"
     },
     "output_type": "display_data"
    }
   ],
   "source": [
    "plt.plot(errorsum,a)"
   ]
  },
  {
   "cell_type": "code",
   "execution_count": 37,
   "metadata": {},
   "outputs": [
    {
     "data": {
      "text/plain": [
       "[<matplotlib.lines.Line2D at 0x7f01fcdaa7d0>]"
      ]
     },
     "execution_count": 37,
     "metadata": {},
     "output_type": "execute_result"
    },
    {
     "data": {
      "image/png": "[encoded data removed]",
      "text/plain": [
       "<Figure size 432x288 with 1 Axes>"
      ]
     },
     "metadata": {
      "needs_background": "light"
     },
     "output_type": "display_data"
    }
   ],
   "source": [
    "plt.plot(b,errorsum1)"
   ]
  },
  {
   "cell_type": "code",
   "execution_count": 34,
   "metadata": {},
   "outputs": [
    {
     "name": "stdout",
     "output_type": "stream",
     "text": [
      "[0.00175443]\n"
     ]
    }
   ],
   "source": [
    "single_point = np.array([1,0,0]) #vary linear inputs to get diffrent predictions of the output y \n",
    "result = sigmoid(np.dot(single_point, weights) + bias)  \n",
    "print(result) "
   ]
  }
 ],
 "metadata": {
  "kernelspec": {
   "display_name": "Python 3",
   "language": "python",
   "name": "python3"
  },
  "language_info": {
   "codemirror_mode": {
    "name": "ipython",
    "version": 3
   },
   "file_extension": ".py",
   "mimetype": "text/x-python",
   "name": "python",
   "nbconvert_exporter": "python",
   "pygments_lexer": "ipython3",
   "version": "3.7.4"
  }
 },
 "nbformat": 4,
 "nbformat_minor": 2
}
