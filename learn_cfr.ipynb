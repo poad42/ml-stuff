{
 "cells": [
  {
   "cell_type": "code",
   "execution_count": 1,
   "metadata": {},
   "outputs": [
    {
     "name": "stdout",
     "output_type": "stream",
     "text": [
      "Populating the interactive namespace from numpy and matplotlib\n"
     ]
    }
   ],
   "source": [
    "%pylab inline\n",
    "%reload_ext autoreload\n",
    "%autoreload 2\n",
    "%matplotlib inline\n",
    "np.set_printoptions(suppress=True)"
   ]
  },
  {
   "cell_type": "code",
   "execution_count": 2,
   "metadata": {},
   "outputs": [],
   "source": [
    "import numpy as np"
   ]
  },
  {
   "cell_type": "code",
   "execution_count": 3,
   "metadata": {},
   "outputs": [],
   "source": [
    "#Create Game Logic\n",
    "rock,paper,knife = 0,1,2\n",
    "def value(p1,p2) :\n",
    "    if p1==p2:\n",
    "        return 0\n",
    "    elif p1==rock and p2== knife:\n",
    "        return 1\n",
    "    elif p1==knife and p2==paper:\n",
    "        return 1\n",
    "    elif p1==paper and p2==rock:\n",
    "        return 1\n",
    "    else:\n",
    "        return -1"
   ]
  },
  {
   "cell_type": "code",
   "execution_count": 4,
   "metadata": {},
   "outputs": [],
   "source": [
    "NUM_ACTIONS = 3\n",
    "#rock, paper,knife in that order\n",
    "regretSum = np.zeros(NUM_ACTIONS)\n",
    "#statergy = np.zeros(3)\n",
    "stratSum = np.zeros(NUM_ACTIONS)\n",
    "oppStrat = np.array([0.4,0.3,0.3])"
   ]
  },
  {
   "cell_type": "code",
   "execution_count": 20,
   "metadata": {},
   "outputs": [],
   "source": [
    "#Acumulate  stratSum abd return strat\n",
    "def getStrat():\n",
    "    global regretSum, stratSum\n",
    "    strat = np.maximum(regretSum,0)\n",
    "    normalizingSum = np.sum(strat)\n",
    "    if normalizingSum > 0:\n",
    "        strat /= normalizingSum\n",
    "    else :\n",
    "        strat = np.ones(NUM_ACTIONS)/NUM_ACTIONS\n",
    "    stratSum += strat\n",
    "    strat = strat / np.sum(strat)\n",
    "    return strat\n",
    "#Use stratSum to obtain Average strategy\n",
    "def getavgStrat():\n",
    "    global stratSum\n",
    "    normalizingSum = np.sum(stratSum)\n",
    "    if normalizingSum > 0:\n",
    "         avgstrat = stratSum /  normalizingSum\n",
    "    else :\n",
    "        avgstrat = np.ones(NUM_ACTIONS)/NUM_ACTIONS\n",
    "    return avgstrat"
   ]
  },
  {
   "cell_type": "code",
   "execution_count": 21,
   "metadata": {},
   "outputs": [],
   "source": [
    "def getaction(strat):\n",
    "    rr = random.random()\n",
    "    return np.searchsorted(np.cumsum(strat),rr)"
   ]
  },
  {
   "cell_type": "code",
   "execution_count": 43,
   "metadata": {},
   "outputs": [],
   "source": [
    "def train(itr):\n",
    "    global regretSum\n",
    "    #regretSum = np.zeros(NUM_ACTIONS)\n",
    "    actionutil = np.zeros(NUM_ACTIONS)\n",
    "    for i in range(itr):\n",
    "        strat = getStrat() #obtain current strategy\n",
    "        #select my action and opponent's action\n",
    "        myAction = getaction(strat)\n",
    "        otherAction = getaction(oppStrat)\n",
    "        #for rock paper knife\n",
    "        actionutil[otherAction]=0\n",
    "        actionutil[(otherAction + 1)%NUM_ACTIONS] = 1\n",
    "        actionutil[(otherAction-1) % NUM_ACTIONS ] = -1\n",
    "        \n",
    "        #accumulate action regrets\n",
    "        regretSum += actionutil - actionutil[myAction]"
   ]
  },
  {
   "cell_type": "code",
   "execution_count": 40,
   "metadata": {},
   "outputs": [],
   "source": [
    "train(100000)"
   ]
  },
  {
   "cell_type": "code",
   "execution_count": 41,
   "metadata": {},
   "outputs": [
    {
     "data": {
      "text/plain": [
       "array([0.00551152, 0.99342546, 0.00106303])"
      ]
     },
     "execution_count": 41,
     "metadata": {},
     "output_type": "execute_result"
    }
   ],
   "source": [
    "getavgStrat()"
   ]
  },
  {
   "cell_type": "code",
   "execution_count": 42,
   "metadata": {},
   "outputs": [
    {
     "data": {
      "text/plain": [
       "([<matplotlib.lines.Line2D at 0x7f3425faebe0>], 9.96)"
      ]
     },
     "execution_count": 42,
     "metadata": {},
     "output_type": "execute_result"
    },
    {
     "data": {
      "image/png": "[encoded data removed]",
      "text/plain": [
       "<Figure size 432x288 with 1 Axes>"
      ]
     },
     "metadata": {
      "needs_background": "light"
     },
     "output_type": "display_data"
    }
   ],
   "source": [
    "vv = []\n",
    "for j in range(200):\n",
    "    v=0\n",
    "    for i in range(100):\n",
    "        strat = getavgStrat()\n",
    "        myAction = getaction(strat)\n",
    "        otherAction = getaction(oppStrat)\n",
    "        v += value(myAction,otherAction)\n",
    "    vv.append(v)\n",
    "plot(sorted(vv)),np.mean(vv)"
   ]
  },
  {
   "cell_type": "code",
   "execution_count": 39,
   "metadata": {},
   "outputs": [
    {
     "data": {
      "image/png": "[encoded data removed]",
      "text/plain": [
       "<Figure size 432x288 with 1 Axes>"
      ]
     },
     "metadata": {
      "needs_background": "light"
     },
     "output_type": "display_data"
    }
   ],
   "source": [
    "strat = getavgStrat()\n",
    "for j in range(5):\n",
    "    a = [getaction(getStrat()) for i in range(100)]\n",
    "    plot (sorted(a))"
   ]
  },
  {
   "cell_type": "code",
   "execution_count": null,
   "metadata": {},
   "outputs": [],
   "source": []
  }
 ],
 "metadata": {
  "kernelspec": {
   "display_name": "Python 3",
   "language": "python",
   "name": "python3"
  },
  "language_info": {
   "codemirror_mode": {
    "name": "ipython",
    "version": 3
   },
   "file_extension": ".py",
   "mimetype": "text/x-python",
   "name": "python",
   "nbconvert_exporter": "python",
   "pygments_lexer": "ipython3",
   "version": "3.7.3"
  }
 },
 "nbformat": 4,
 "nbformat_minor": 2
}
