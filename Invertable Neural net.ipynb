{
 "cells": [
  {
   "cell_type": "code",
   "execution_count": 1,
   "metadata": {},
   "outputs": [
    {
     "name": "stdout",
     "output_type": "stream",
     "text": [
      "Populating the interactive namespace from numpy and matplotlib\n"
     ]
    }
   ],
   "source": [
    "%pylab inline\n",
    "import numpy as np\n",
    "import tensorflow as tf\n",
    "import tensorflow.keras as keras\n",
    "from tensorflow.keras.datasets import mnist\n",
    "import torch\n",
    "import torch.nn as nn\n",
    "import torch.optim as optim\n",
    "import torch.nn.functional as F\n",
    "import tqdm as tqdm"
   ]
  },
  {
   "cell_type": "code",
   "execution_count": 83,
   "metadata": {},
   "outputs": [],
   "source": [
    "(x_train, y_train), (x_test, y_test) = mnist.load_data()\n",
    "num_classes = 10\n",
    "x_train = x_train.astype('float32') /255.0\n",
    "x_test = x_test.astype('float32')/255.0\n",
    "y_train = keras.utils.to_categorical(y_train, num_classes)\n",
    "y_test = keras.utils.to_categorical(y_test, num_classes)\n",
    "\n",
    "x_train = torch.tensor(x_train.reshape((-1,784)))"
   ]
  },
  {
   "cell_type": "code",
   "execution_count": 79,
   "metadata": {},
   "outputs": [],
   "source": [
    "modules = []\n",
    "for i in range(1):\n",
    "    modules.append(nn.Linear(784,784,bias=True))\n",
    "    modules.append(nn.ELU())\n",
    "modules.append(nn.Linear(784,784,bias=True))\n",
    "model = nn.Sequential(*modules)\n",
    "#xt = torch.tensor(x_train[0:10].reshape((-1,784)))\n",
    "#model(xt)"
   ]
  },
  {
   "cell_type": "code",
   "execution_count": 80,
   "metadata": {},
   "outputs": [
    {
     "name": "stderr",
     "output_type": "stream",
     "text": [
      "100%|██████████| 600/600 [00:09<00:00, 62.64it/s]\n"
     ]
    }
   ],
   "source": [
    "#trainer\n",
    "optimizer = optim.Adam(model.parameters())\n",
    "model.train()\n",
    "bs=100\n",
    "for i in tqdm.tqdm(range(0,x_train.shape[0],bs)):\n",
    "    optimizer.zero_grad()\n",
    "    xx = x_train[i:i+bs]\n",
    "    yy = model(xx)\n",
    "    loss = F.mse_loss(xx,-yy)\n",
    "    loss.backward()\n",
    "    optimizer.step()"
   ]
  },
  {
   "cell_type": "code",
   "execution_count": 81,
   "metadata": {},
   "outputs": [],
   "source": [
    "def elu(x):\n",
    "    x = np.copy(x)\n",
    "    negs = x < 0\n",
    "    x[negs] = np.exp(x[negs])-1\n",
    "    return x\n",
    "\n",
    "def invelu(x):\n",
    "    x = np.copy(x)\n",
    "    negs = x < 0\n",
    "    x[negs] = np.log(x[negs]+1)\n",
    "    return x\n",
    "\n",
    "\n",
    "def forward(x):\n",
    "    for m in list(model.children()):\n",
    "        if type(m) == nn.Linear:\n",
    "            A = m.weight.detach().numpy()\n",
    "            x =np.dot(x,np.transpose(A))\n",
    "            x+= m.bias.detach().numpy()\n",
    "        elif type(m) == nn.ELU:\n",
    "            x = elu(x)\n",
    "    return x\n",
    "\n",
    "def inverse(x):\n",
    "    for m in list(model.children())[::-1]:\n",
    "        if type(m) == nn.Linear:\n",
    "            x-= m.bias.detach().numpy()\n",
    "            A = m.weight.detach().numpy()\n",
    "            x =np.dot(x,np.linalg.inv(np.transpose(A)))\n",
    "        elif type(m) == nn.ELU:\n",
    "            x = invelu(x)\n",
    "    return x"
   ]
  },
  {
   "cell_type": "code",
   "execution_count": 82,
   "metadata": {},
   "outputs": [
    {
     "data": {
      "text/plain": [
       "<matplotlib.image.AxesImage at 0x7fcdb8900da0>"
      ]
     },
     "execution_count": 82,
     "metadata": {},
     "output_type": "execute_result"
    },
    {
     "data": {
      "image/png": "[encoded data removed]",
      "text/plain": [
       "<Figure size 432x288 with 1 Axes>"
      ]
     },
     "metadata": {
      "needs_background": "light"
     },
     "output_type": "display_data"
    },
    {
     "data": {
      "image/png": "[encoded data removed]",
      "text/plain": [
       "<Figure size 432x288 with 1 Axes>"
      ]
     },
     "metadata": {
      "needs_background": "light"
     },
     "output_type": "display_data"
    },
    {
     "data": {
      "image/png": "[encoded data removed]",
      "text/plain": [
       "<Figure size 432x288 with 1 Axes>"
      ]
     },
     "metadata": {
      "needs_background": "light"
     },
     "output_type": "display_data"
    }
   ],
   "source": [
    "cc = random.randint(0,x_train.shape[0])\n",
    "xx = x_train[cc:cc+1]\n",
    "yy = forward(xx.detach().numpy()[0])\n",
    "imshow(yy.reshape(28,28))\n",
    "figure()\n",
    "imshow(xx.reshape(28,28))\n",
    "figure()\n",
    "zz = inverse(yy)\n",
    "imshow(zz.reshape(28,28))"
   ]
  },
  {
   "cell_type": "code",
   "execution_count": 85,
   "metadata": {},
   "outputs": [],
   "source": [
    "#cc = random.randint(0,x_train.shape[0])\n",
    "#xx = x_train[cc:cc+1]\n",
    "#imshow(xx.reshape(28,28))\n",
    "#figure()\n",
    "#yy = model(xx).detach().numpy()\n",
    "#imshow(yy.reshape(28,28))\n",
    "#figure()\n",
    "#zz = model(torch.tensor(yy)).detach().numpy()\n",
    "#imshow(yy.reshape(28,28))"
   ]
  }
 ],
 "metadata": {
  "kernelspec": {
   "display_name": "Python 3",
   "language": "python",
   "name": "python3"
  },
  "language_info": {
   "codemirror_mode": {
    "name": "ipython",
    "version": 3
   },
   "file_extension": ".py",
   "mimetype": "text/x-python",
   "name": "python",
   "nbconvert_exporter": "python",
   "pygments_lexer": "ipython3",
   "version": "3.7.3"
  }
 },
 "nbformat": 4,
 "nbformat_minor": 2
}
